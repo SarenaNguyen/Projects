{
 "cells": [
  {
   "cell_type": "markdown",
   "metadata": {},
   "source": [
    "# Gas Diffusion Modeling"
   ]
  },
  {
   "cell_type": "markdown",
   "metadata": {},
   "source": [
    "## Negatrode:\n",
    "I am going to break down the 1 mm negatrode into two parts: a gas diffusion part, and a reaction volume.  The first 980 $\\mathrm{\\mu}$m of the negatrode are too far away from the electrolyte for the reactions to really mattter so this will just be for gas diffusion.  In the last 20 $\\mathrm{\\mu}$m there will be gas diffusion as well as reactions with the negatrode.  The microstructure is the same in both sections.\n",
    "\n",
    "For the purposes of this model I will be running in fuel cell mode and the gas composition will look like this:\n",
    " - Negatrode side 50% H2 50% N2\n",
    " - Positive Side: 10% Steam, 19% $O_2$, and 71% $N_2$.\n",
    " \n",
    " \n",
    "I am assuming that there is enough flow that the layers closest to the inlet gasses will always be at the concentrations of the inflowing gas.  The positrode is only a 20 micron thick layer, so the gas will always be at the concentration of the inflow channels, so for now I will not model the gas flow in the positrode\n",
    "\n",
    "### Negatrode\n",
    "Node 1: in the first 980 microns of the negatrode, I am assuming that there is enough flow for the gas to stay at the same pressure/composition. This node is at the boundary of the reaction volume, so some hydrogen has been converted to water\n",
    " - Pressure = 101,325 Pa\n",
    " - dy = 980 microns\n",
    " - $X_{\\rm H_2} = 0.50$\n",
    " - $X_{\\rm N_2} = 0.50$\n",
    " - $X_{\\rm H_2O} = 0.02$\n",
    "\n",
    "\n",
    "Node 2: in the reaction layer, where H$_2$ is consumed and H$_2$O is produced throught the reaction volume. I  am also just guessing the gas composition here.\n",
    " - Pressure = 81,343 Pa (will likely be at a lower pressure than the top layer of the negatrode, this is not an actual calculated value I just used the atmosphereic pressure in golden as a number lower than atmospheric pressure). \n",
    " - dy = 20 microns\n",
    " - $X_{\\rm H_2} = 0.40$\n",
    " - $X_{\\rm N_2} = 0.55$\n",
    " - $X_{\\rm H_2O} = 0.05$\n",
    " \n",
    "The gas-phase species diffusion coefficients are: Using your numbers from HW5\n",
    "- N$_2$: $2.798\\times 10^{-5}\\,\\frac{\\rm m^2}{\\rm s}$\n",
    "- H$_2$O: $1.9\\times 10^{-5}\\,\\frac{\\rm m^2}{\\rm s}$\n",
    "- H$_2$: $0.3\\times 10^{-5}\\,\\frac{\\rm m^2}{\\rm s}$ Reasonable looking number"
   ]
  },
  {
   "cell_type": "markdown",
   "metadata": {},
   "source": [
    "# New Solution Vector\n",
    "There will now be additions to the solution vector, which are the species concentrations at different nodes:\n",
    " - C_k_top\n",
    " - C_k_rxn \n",
    " \n",
    "The vector will now be a nested array due to there being multiple anode species. making a new SV: (well the ideal SV)\n",
    "$$SV = \\begin{bmatrix} \\phi_\\mathrm{int,neg} \\\\ C_\\mathrm{k,top,gas} \\\\ C_\\mathrm{k,rxn,gas} \\\\ C_\\mathrm{H,surf,Ni} \\\\ C_\\mathrm{H^+,surf,Ni} \\\\ C_{O^{2-},surf,Ni} \\\\ C_{H_2O,surf,Ni} \\\\ C_\\mathrm{[],surf,Ni} \\\\ C_\\mathrm{[],surf,elyte}\\\\ \\phi_\\mathrm{int,pos} \\\\ C_\\mathrm{H^+,surf,BCFZY} \\\\ C_{O^{2-},surf,BCFZY} \\\\ C_{H_2O,surf,BCFZY} \\\\ C_\\mathrm{O,surf,BCFZY} \\\\ C_\\mathrm{[],surf,BCFZY} \\end{bmatrix}$$\n",
    "\n",
    "New actual SV:\n",
    "$$SV = \\begin{bmatrix} \\phi_\\mathrm{int,neg} \\\\ C_\\mathrm{k,top,gas} \\\\ C_\\mathrm{k,rxn,gas} \\\\ \\phi_\\mathrm{int,pos}  \\end{bmatrix}$$"
   ]
  },
  {
   "cell_type": "code",
   "execution_count": null,
   "metadata": {},
   "outputs": [],
   "source": [
    "#Kg calculations\n",
    "#----- Negatrode:\n",
    "#inputs\n",
    "eps_Ni = 0.159 #see calculations\n",
    "eps_elyte_neg = 0.191 #See Calculations\n",
    "eps_gas_neg = 1-eps_Ni-eps_elyte_neg\n",
    "d_Ni_neg = 1*10**-5 #(m)rough estimate from SEM images (average diameter of Ni in negatrode)\n",
    "d_elyte_neg = 5*10**-6 #(m) rough estimate from SEM images (average diameter of BCZYYb in negatrode)\n",
    "n_brugg = -0.5\n",
    "\n",
    "#T,fac:\n",
    "tau_fac_neg = eps_gas_neg**n_brugg\n",
    "\n",
    "#Kg\n",
    "d_part_avg = (d_Ni_neg+d_elyte_neg)/2 #just taking a linear average of the two particle sizes\n",
    "Kg_neg = (eps_gas_neg**3*d_part_avg**2)/(72*tau_fac_neg*(1-eps_gas_neg)**2)\n"
   ]
  },
  {
   "cell_type": "code",
   "execution_count": null,
   "metadata": {},
   "outputs": [],
   "source": [
    "# inputs:\n",
    "import numpy as np\n",
    "# --- Negatrode\n",
    "dy1 = 980e-6 # m\n",
    "dy2 = 20e-6 # m\n",
    "\n",
    "eps_gas_neg = 1-eps_Ni-eps_elyte_neg\n",
    "Kg_neg = (eps_gas_neg**3*d_part_avg**2)/(72*tau_fac_neg*(1-eps_gas_neg)**2)\n",
    "tau_fac_neg = eps_gas_neg**n_brugg\n",
    "\n",
    "T = 823 # K\n",
    "\n",
    "P_neg_1 = 101325 # Pa\n",
    "P_neg_2 = 81343 # Pa\n",
    "\n",
    "R = 8.3145 # J/mol-K\n",
    "F = 96485  # C/mol equiv\n",
    "\n",
    "# Concentrations\n",
    "X_k_top = np.array([0.50, 0.50, 0.0]) #H2, N2, Steam\n",
    "X_k_rxn = np.array([0.40, 0.55, 0.05]) #H2, N2, Steam\n",
    "\n",
    "mu = 2.08e-5 #kg/m-s #I am going to use your value for this\n",
    "\n",
    "D_k_an = np.array([0.3e-5, 2.798e-5, 1.9e-5]) #m2/s, H2, N2, Steam\n",
    "\n",
    "#----- Cathod"
   ]
  },
  {
   "cell_type": "code",
   "execution_count": null,
   "metadata": {},
   "outputs": [],
   "source": [
    "#Dictionaries:\n",
    "s1 = {'X_k':X_k_top,'P':P_neg_1,}\n"
   ]
  },
  {
   "cell_type": "code",
   "execution_count": null,
   "metadata": {},
   "outputs": [],
   "source": [
    "def gas_diffusion(s1,s2,gasProps):\n",
    "    \n",
    "    \n",
    "    \n",
    "    \n",
    "    N_k = C_int*X_k_int*V_k\n",
    "    return N_k"
   ]
  }
 ],
 "metadata": {
  "kernelspec": {
   "display_name": "Python 3",
   "language": "python",
   "name": "python3"
  },
  "language_info": {
   "codemirror_mode": {
    "name": "ipython",
    "version": 3
   },
   "file_extension": ".py",
   "mimetype": "text/x-python",
   "name": "python",
   "nbconvert_exporter": "python",
   "pygments_lexer": "ipython3",
   "version": "3.7.3"
  }
 },
 "nbformat": 4,
 "nbformat_minor": 2
}
