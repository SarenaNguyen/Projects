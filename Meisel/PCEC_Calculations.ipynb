{
 "cells": [
  {
   "cell_type": "markdown",
   "metadata": {},
   "source": [
    "# Here is where I will show the calculations I have done to get some initial parameters:"
   ]
  },
  {
   "cell_type": "markdown",
   "metadata": {},
   "source": [
    "#### Calculating the volume fractions of the Ni and BCZYYb in the negatrode:"
   ]
  },
  {
   "cell_type": "code",
   "execution_count": 3,
   "metadata": {},
   "outputs": [
    {
     "name": "stdout",
     "output_type": "stream",
     "text": [
      "1.2429942894713041e-05\n",
      "0.15941934564318072\n",
      "0.19058065435681923\n"
     ]
    }
   ],
   "source": [
    "#Assuming that the Ni is solid when in reality it is porous\n",
    "Porosity = 0.65 #Generally it is about 65%\n",
    "\n",
    "#Ni\n",
    "D_Ni = 8908 #kg/m^3\n",
    "mm_Ni = .0586934 #kg/mol\n",
    "mD_Ni = mm_Ni/D_Ni #m^3/mol\n",
    "\n",
    "\n",
    "#BCZYYb\n",
    "#Need to calculate density first\n",
    "a_BCZYYb4411 = 4.3060*10**-10 #(m) Lattice parameter of BCZYYb4411 from Choi 2018\n",
    "V_lattice = a_BCZYYb4411**3 #m^3\n",
    "#mass of a BCZYYb4411 lattice:\n",
    "m_Ba = 137.327 #amu\n",
    "m_Ce = 140.116 #amu\n",
    "m_Zr = 91.224 #amu\n",
    "m_Y = 88.906 #amu\n",
    "m_Yb = 173.045 #amu\n",
    "m_O = 15.999 #amu\n",
    "#amounts\n",
    "x = 0.4\n",
    "y = 0.4\n",
    "z = 0.1\n",
    "#BCZYYb4411 calculations\n",
    "m_BCZYYb4411_amu = m_Ba+(m_Ce*x+m_Zr*y+m_Y*z+m_Yb*(1-x-y-z))+m_O*3 #amu\n",
    "amu_kg = 1.66*10**-27 #amu/kg\n",
    "m_BCZYYb4411_kg = m_BCZYYb4411_amu*amu_kg #kg\n",
    "D_BCZYYb4411 = m_BCZYYb4411_kg/V_lattice #kg/m^3\n",
    "mm_BCZYYb4411 = m_BCZYYb4411_amu/1000 #kg/mol\n",
    "mD_BCZYYb4411 = mm_BCZYYb4411/D_BCZYYb4411 #m^3/mol\n",
    "\n",
    "#mol fractions of both:\n",
    "#assuming 100gs\n",
    "mol_BCZYYb4411 = 40/m_BCZYYb4411_amu #mol\n",
    "\n",
    "mol_Ni = 60/(mm_Ni*1000+m_O) #mol\n",
    "mol_tot = mol_BCZYYb4411+mol_Ni\n",
    "\n",
    "mf_Ni = mol_Ni/mol_tot\n",
    "mf_BCZYYb4411 = mol_BCZYYb4411/mol_tot\n",
    "\n",
    "#Finally getting the volume fractions\n",
    "V_tot = mf_Ni*mD_Ni+mf_BCZYYb4411*mD_BCZYYb4411#m^3 (assuming 1 mol)\n",
    "print(V_tot)\n",
    "\n",
    "V_frac_Ni = mf_Ni*mD_Ni/V_tot\n",
    "V_frac_BCZYYb4411 = mf_BCZYYb4411*mD_BCZYYb4411/V_tot\n",
    "\n",
    "#Since the Solid portion of the anode is 35% of the volume, both values have to be multiplied by 0.35:\n",
    "eps_neg = 0.35\n",
    "V_frac_Ni_neg = V_frac_Ni*eps_neg \n",
    "V_frac_BCZYYb4411_neg = V_frac_BCZYYb4411*eps_neg\n",
    "print(V_frac_Ni_neg)\n",
    "print(V_frac_BCZYYb4411_neg)"
   ]
  },
  {
   "cell_type": "markdown",
   "metadata": {},
   "source": [
    "## Calculating the permeability (Kg) for the positrode and negatrode:\n",
    "Since most of the particles are sphereical and they have not fully densified, I am going to use the Kozeny-Carmen relationship to solve for Kg:\n",
    "\n",
    "<center>$K_g = \\frac{\\epsilon^3_\\mathrm{gas}*d_\\mathrm{p}^2}{72\\tau_\\mathrm{fac,m}(1-\\epsilon_\\mathrm{gas})^2}$</center>\n",
    "    \n",
    "Where:\n",
    " - $\\epsilon_\\mathrm{gas}$ is the volume fraction of the fluid among the porous solid\n",
    " - $d_\\mathrm{p}$ is the diameter of the particles\n",
    " - $\\tau_\\mathrm{fac,g}$ is the tortuosity factor and accounts for the non-direct path that the fluid particles take to get through the medium\n",
    " \n",
    "The calculations for $\\tau_\\mathrm{fac,m}$ use the Bruggman correlation and are shown here: $\\tau_\\mathrm{fac,m}=\\gamma_m\\epsilon_m^n$\n",
    " - where gamma is assumed to be 1\n",
    " - $\\epsilon_m$ is the volume fraction of the fluid\n",
    " - n is the Bruggman factor and is -0.5\n",
    " - This will be the same for all gas species because they will encounter the same microstructure."
   ]
  },
  {
   "cell_type": "code",
   "execution_count": 1,
   "metadata": {},
   "outputs": [],
   "source": [
    "#----- Negatrode:\n",
    "#inputs\n",
    "eps_Ni = 0.159 #see calculations\n",
    "eps_elyte_neg = 0.191 #See Calculations\n",
    "eps_gas_neg = 1-eps_Ni-eps_elyte_neg\n",
    "d_Ni_neg = 1*10**-5 #(m)rough estimate from SEM images (average diameter of Ni in negatrode)\n",
    "d_elyte_neg = 5*10**-6 #(m) rough estimate from SEM images (average diameter of BCZYYb in negatrode)\n",
    "n_brugg = -0.5\n",
    "\n",
    "#T,fac:\n",
    "tau_fac_neg = eps_gas_neg**n_brugg\n",
    "\n",
    "#Kg\n",
    "d_part_avg = (d_Ni_neg+d_elyte_neg)/2 #just taking a linear average of the two particle sizes\n",
    "Kg_neg = (eps_gas_neg**3*d_part_avg**2)/(72*tau_fac_neg*(1-eps_gas_neg)**2)\n",
    "\n",
    "#----- Positrode:\n",
    "#inputs:\n",
    "d_BCFZY = 500*10**-9 #(m) rough estimate from SEM images\n",
    "eps_BCFZY = 0.5 #just assuming 50% porosity need to look up this value could measure more accurately\n",
    "eps_gas_pos = 1-eps_BCFZY\n",
    "\n",
    "#T,fac:\n",
    "tau_fac_pos = eps_gas_pos**n_brugg\n",
    "\n",
    "#Kg\n",
    "Kg = (eps_gas_pos**3*d_part_avg**2)/(72*tau_fac_pos*(1-eps_gas_neg)**2)"
   ]
  }
 ],
 "metadata": {
  "kernelspec": {
   "display_name": "Python 3",
   "language": "python",
   "name": "python3"
  },
  "language_info": {
   "codemirror_mode": {
    "name": "ipython",
    "version": 3
   },
   "file_extension": ".py",
   "mimetype": "text/x-python",
   "name": "python",
   "nbconvert_exporter": "python",
   "pygments_lexer": "ipython3",
   "version": "3.7.3"
  }
 },
 "nbformat": 4,
 "nbformat_minor": 2
}
