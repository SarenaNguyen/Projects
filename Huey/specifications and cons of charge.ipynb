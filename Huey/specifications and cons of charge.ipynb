{
 "cells": [
  {
   "source": [
    "The domain for this system is a lithium ion battery with a NMC 811 cathode and a composite anode with silicon (Si) and graphite (Gr) with a porous separator (based off CAMP electrodes, but composition will vary within the model). The electrolyte will be EC:EMC (3:7 by wt.) + 1.2M LiPF6.\n",
    "\n",
    "The state variables are\n",
    "\n",
    "-Li fraction in anode, $X_{Li,an}$\n",
    "-Electric potential at the anode\n",
    "-Concentration of $Li^+$ in the anode\n",
    "-electrolyte potential in the anode\n",
    "-Concentration of $Li^+$ in the separator\n",
    "-electrolyte potential in the separator\n",
    "-Li fraction in cathode, $X_{Li,ca}$\n",
    "-Electric potential at the cathode\n",
    "-Concentration of $Li^+$ in the cathode\n",
    "-electrolyte potential in the cathode\n",
    "-radius of Gr particles in the anode, $r_{Gr}$\n",
    "-radius of Si particles in the anode,, $r_{Si}$\n",
    "\n"
   ],
   "cell_type": "markdown",
   "metadata": {}
  },
  {
   "source": [
    "###Battery specifications\n",
    "\n",
    "The two anode particle types (Si and Gr) will have radii $r_{Si}$ and $r_{Gr}$. The total number of particles, $N_p$ is equal to\n",
    "\n",
    "\\begin{equation}\n",
    "N_p = N_{Si} + N_{Gr}\n",
    "\\end{equation}\n",
    "\n",
    "The volume fraction of active material is similarly defined: (IS THIS RIGHT??)\n",
    "\n",
    "\\begin{equation}\n",
    "\\epsilon_s = \\epsilon_{Gr} + \\epsilon_{Si}\n",
    "\\end{equation}\n",
    "\n",
    "The electrode dimensions are $\\Delta x_{an},\\ \\Delta y_{an},\\ \\Delta z_{an}=H_{an}$ and $\\Delta x_{ca} \\Delta y_{ca},\\ \\Delta z_{ca} = H_{ca}$.\n",
    "\n",
    "To determine the solid phase volume, \n",
    "\n",
    "\\begin{equation}\n",
    "\\epsilon_{Gr} + \\epsilon_{Si} = \\epsilon_s = \\frac{N_{Gr} \\pi \\frac{4}{3} r^3_{Gr}}{\\Delta x_{an} \\Delta y_{an} \\Delta z_{an}} + \\frac{N_{Si} \\pi \\frac{4}{3} r^3_{Si}}{\\Delta x_{an} \\Delta y_{an} \\Delta z_{an}} = \\frac{4 (N_{Gr}+N_{Si}) \\pi (r^3_{Gr}+r^3_{Si})}{3AH_{an}}\n",
    "\\end{equation}\n",
    "\n",
    "If $n_p= n_{Gr}+ n_{Si}= \\frac{N_p}{A}$, then\n",
    "\\begin{equation}\n",
    "n_p = \\frac{3 H_{an} (\\epsilon_{Gr}+\\epsilon_{Si})}{4 \\pi (r^3_{Gr}+r^3_{Si})}\n",
    "\\end{equation}\n"
   ],
   "cell_type": "markdown",
   "metadata": {}
  },
  {
   "source": [
    "###Conservation of charge in anode\n",
    "\n",
    "\\begin{equation}\n",
    "\\frac{dQ_{an}}{dt} = 0 = I_{ext}-i_{Far}A_{surf}-i_{dl}A_{surf}\n",
    "\\end{equation}\n",
    "This can be rewritten as\n",
    "\\begin{equation}\n",
    "i_{dl} = i_{Far} - i_{ext} \\frac{A}{A_{surf}}\n",
    "\\end{equation}\n",
    "\n",
    "$A_{surf}$ must account for the surface area of two particle sizes.\n",
    "\\begin{equation}\n",
    "A_{surf} = 4 \\pi (r^2_{Gr}+r^2_{Si}) (N_{p})\n",
    "\\end{equation}\n",
    "\\begin{equation}\n",
    "A_{surf} = 4 \\pi (r^2_{Gr}+r^2_{Si}) A n_p\n",
    "\\end{equation}\n",
    "\\begin{equation}\n",
    "\\frac{A}{A_{surf}} = \\frac{1}{4 \\pi (r^2_{Gr}+r^2_{Si}) n_p}\n",
    "\\end{equation}\n",
    "Plug in equation above for $n_p$:\n",
    "\\begin{equation}\n",
    "\\frac{A}{A_{surf}} = \\frac{4 \\pi (r^3_{Gr}+r^3_{Si})}{4 \\pi (r^2_{Gr}+r^2_{Si}) 3 H_{an} (\\epsilon_{Gr}+\\epsilon_{Si})} = \\frac{(r^3_{Gr}+r^3_{Si})}{ (r^2_{Gr}+r^2_{Si}) 3 H_{an} (\\epsilon_{Gr}+\\epsilon_{Si})}\n",
    "\\end{equation}\n",
    "And then plug into conservation of charge equation\n",
    "\\begin{equation}\n",
    "i_{dl} = i_{Far} - i_{ext} \\frac{(r^3_{Gr}+r^3_{Si})}{ (r^2_{Gr}+r^2_{Si}) 3 H_{an} (\\epsilon_{Gr}+\\epsilon_{Si})}\n",
    "\\end{equation}\n"
   ],
   "cell_type": "markdown",
   "metadata": {}
  },
  {
   "source": [],
   "cell_type": "markdown",
   "metadata": {}
  },
  {
   "source": [
    "###Conservation of charge in interfacial double layer.\n",
    "\\begin{equation}\n",
    "\\frac{dQ_{dl}}{dt}=i_{dl}A_{surf}\n",
    "\\end{equation}\n",
    "\\begin{equation}\n",
    "Q_{dl}=A_{surf}C_{dl} \\Delta \\phi_{dl}\n",
    "\\end{equation}\n",
    "Assuming constant surface area and double layer concentration,\n",
    "\\begin{equation}\n",
    "\\frac{dA_{surf} C_{dl} \\Delta \\phi_{dl}}{dt} = A_{surf}C_{dl} \\frac{d \\Delta \\phi_{dl}}{dt} = A_{surf} i_{dl}\n",
    "\\end{equation}\n",
    "\\begin{equation}\n",
    "\\frac{d \\Delta \\phi_{dl}}{dt} = \\frac{d(\\phi_{el}-\\phi_{elyte})}{dt} = \\frac{A_{surf}}{A_surf}\\frac{i_{dl}}{C_{dl}} = \\frac{i_{dl}}{C_{dl}} = \\frac{1}{C_{dl}} (i_{Far}-i_{ext}\\frac{A}{A_{surf}})\n",
    "\\end{equation}\n",
    "\n"
   ],
   "cell_type": "markdown",
   "metadata": {}
  },
  {
   "source": [
    "###Conservation of elements: bulk anode species\n",
    "\n",
    "Again, we need to account for both Si and Gr here.\n",
    "\\begin{equation}\n",
    "\\frac{d N_k}{dt} = \\frac{d(N_{Gr}+N_{Si})}{dt} = (\\dot{s}_{Gr}+\\dot{s}_{Si})A_{surf}\n",
    "\\end{equation}\n",
    "Total anode volume is\n",
    "\\begin{equation}\n",
    "V_{an}=\\Delta x \\Delta y \\Delta z\n",
    "\\end{equation}\n",
    "\\begin{equation}\n",
    "\\frac{1}{V_{an}} \\frac{d(N_{Gr}+N_{Si})}{dt} = \\frac{(\\dot{s}_{Gr}+\\dot{s}_{Si})A_{surf}}{V_{an}}\n",
    "\\end{equation}\n",
    "\n"
   ],
   "cell_type": "markdown",
   "metadata": {}
  },
  {
   "source": [
    "##Assumptions and boundary conditions\n",
    "\n",
    "Using the anode as the reference electrode:\n",
    "\\begin{equation}\n",
    "\\phi_{an} = 0\\ V\n",
    "\\end{equation}\n",
    "\n",
    "From here, we can determine electrolyte potential in anode pores as\n",
    "\\begin{equation}\n",
    "\\phi_{elyte,an} = \\phi_{an} - \\Delta \\phi_{dl,an}\n",
    "\\end{equation}\n",
    "\n"
   ],
   "cell_type": "markdown",
   "metadata": {}
  },
  {
   "source": [
    "###Capacity\n",
    "\n",
    "This also needs to account for the Si and Gr components\n",
    "\n",
    "\\begin{equation}\n",
    "Cap = C_{AM} \\rho_{AM} \\epsilon_{AM}H_{el} = (C_{Gr} \\rho_{Gr} \\epsilon_{Gr} + C_{Si} \\rho_{Si} \\epsilon_{Si}) H_{el}\n",
    "\\end{equation}\n"
   ],
   "cell_type": "markdown",
   "metadata": {}
  },
  {
   "cell_type": "code",
   "execution_count": null,
   "metadata": {},
   "outputs": [],
   "source": [
    "C_rate = 0.1 # How many charges per hour?\n",
    "\n",
    "T = 298 #K\n",
    "\n",
    "r_gr = 30E-6 #m, from CAMP\n",
    "r_si = 150E-9 #m, from CAMP \n",
    "phi_an_0 = 0 #V\n",
    "C_dl_an = 1e4 #F/m2\n",
    "i_o_an = 4.0  #A/m2\n",
    "n_an = -1\n",
    "beta_an = 0.5\n",
    "H_an = 30e-6  #m\n",
    "density_gr = 2260 #kg/m3\n",
    "capacity_gr = 350 #Ah/kg\n",
    "eps_gr = .70 #can go back and actually caluculate this from CAMP data, but i didn't yet\n",
    "density_si = 2330 #kg/m3\n",
    "capacity_si = 4200 #Ah/kg\n",
    "eps_si = .20\n",
    "dPhi_eq_an = -1.6\n",
    "\n",
    "phi_sep_0 = 1.8  #V\n",
    "\n",
    "r_nmc = 0.3e-6 #m\n",
    "phi_ca_0 = 4.6  #V\n",
    "C_dl_ca = 1e4 #F/m2\n",
    "i_o_ca = 100 #A/m2\n",
    "n_ca = -1\n",
    "beta_ca = 0.5\n",
    "H_ca = 50e-6  #m\n",
    "density_nmc = 2200  #kg/m3, from Targray NMC 811\n",
    "capacity_nmc = 185  #Ah/kg\n",
    "eps_nmc = 0.65\n",
    "dPhi_eq_ca = 2.6\n",
    "\n",
    "# How deep do we want to charge/discharge?\n",
    "charge_frac = 0.9"
   ]
  },
  {
   "cell_type": "code",
   "execution_count": null,
   "metadata": {},
   "outputs": [],
   "source": [
    "# Initialize:\n",
    "phi_dl_an_0 = phi_an_0 - phi_sep_0\n",
    "phi_dl_ca_0 = phi_ca_0 - phi_sep_0\n",
    "\n",
    "\n",
    "capacity_anode = H_an * (capacity_gr*eps_gr*density_gr + capacity_si*eps_si*density_si)\n",
    "capacity_cathode = capacity_LCO*H_ca*eps_LCO*density_LCO\n",
    "capacity_area = min(capacity_anode,capacity_cathode)\n",
    "\n",
    "\n",
    "t_final = charge_frac*3600./C_rate\n",
    "i_ext = C_rate*capacity_area\n",
    "\n",
    "A_fac_an = r_p_an/3/H_an/eps_graphite\n",
    "A_fac_ca = r_p_ca/3/H_ca/eps_LCO"
   ]
  },
  {
   "cell_type": "code",
   "execution_count": null,
   "metadata": {},
   "outputs": [],
   "source": [
    "# Constants\n",
    "F = 96485\n",
    "R = 8.3145"
   ]
  }
 ],
 "metadata": {
  "kernelspec": {
   "display_name": "Python 3",
   "language": "python",
   "name": "python3"
  },
  "language_info": {
   "codemirror_mode": {
    "name": "ipython",
    "version": 3
   },
   "file_extension": ".py",
   "mimetype": "text/x-python",
   "name": "python",
   "nbconvert_exporter": "python",
   "pygments_lexer": "ipython3",
   "version": "3.8.5"
  }
 },
 "nbformat": 4,
 "nbformat_minor": 4
}