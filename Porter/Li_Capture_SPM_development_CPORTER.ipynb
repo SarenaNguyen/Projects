{
 "cells": [
  {
   "cell_type": "markdown",
   "metadata": {},
   "source": [
    "# Lithium Capture Single Particle Model Development\n",
    "\n",
    "I will develop the initial model and governing equations for a single-particle model of an electrochemical lithium capture system. The overarching goal of such technology is to find an efficient method to recover lithium from natural sources such as brine ponds or seawater (difficult, since Li concentration in sea water is very low) for use in battery applications.\n",
    "\n",
    "The general process for capturing lithium ions (known in the literature as 'electrochemical ion pumping') is as follows [1]:\n",
    "1. Li cations from brine are intercalated in an $FePO_4$ electrode by applying a current\n",
    "2. The solution (rid of Li ions) is exchanged for a 'recovery solution'\n",
    "3. The current is reversed, and intercalated Li ions are released into solution\n",
    "4. Solution is recovered and replaced with fresh brine; cycle repeats\n",
    "\n",
    "In this model, I will be considering only step 1, the intercalation of Li cations into an electrode through applying an electric current.\n",
    "\n",
    "### Note on electrode notation\n",
    "Lithium recovery electrodes (in this model, $FePO_4$ are typically composed of materials used as cathode electrodes in Li-batteries, since the same properties that make for a suitable cathode make for a suitable lithium recovery electrode (Li selectivity and stability in wet environments [2]).\n",
    "\n",
    "Therefore, throughout this model I will use the term \"cathode\" to refer to the lithium recovery electrode and \"anode\" to refer to the counter electrode.\n",
    "\n",
    "# #The model domain includes:\n",
    "- Porous Ag/AgCl anode\n",
    "- Porous electrolyte separator (? necessary ?)\n",
    "- Porous FePO4/LiFeO4 cathode\n",
    "\n",
    "The liquid electrolyte will consist of artifical brine reflecting the typical concentration of Li cations in a Chilean salt pond: $60 10^{-3} M Li^+$\n",
    "\n",
    "The simulation will assume a constant temperature of 298 K.  We will further assume that the anode, cathode, and electrolyte phases are incompressible (constant molar density).\n",
    "\n",
    "The state variables are:\n",
    "- Li intercalation fraction $X_{\\rm Li}$ in the $Ag$ anode, $X_{\\rm Li,an}$\n",
    "- Electric potential of the $Ag$ anode.\n",
    "- Concentration of the Li+ in the electrolyte in the $Ag$ anode.\n",
    "- Electrolyte electric potential in the $Ag$ anode.\n",
    "- Concentration of the Li+ in the electrolyte in the separator.\n",
    "- Electrolyte electric potential in the separator.\n",
    "- Concentration of the Li+ in the electrolyte in the $FePO_4$ cathode.\n",
    "- Electrolyte electric potential in the $FePO_4$ cathode.\n",
    "- Li intercalation fraction $X_{\\rm Li}$ in the $FePO_4$, $X_{\\rm Li,ca}$\n",
    "- Electric potential in the $FePO_4$\n",
    "\n",
    "## Conservation of charge:\n",
    "\n",
    "### Double layer current:\n",
    "\n",
    "We begin with conservation of charge at the electrolyte/electrode double layers.  Calling 'el' the electrode phase:\n",
    "\\begin{equation}\n",
    "    \\frac{\\partial Q_{\\rm el}}{\\partial t} = 0 = \\pm I_{\\rm ext} -i _{\\rm Far}A_{\\rm surf} - i_{\\rm dl}A_{\\rm surf}\n",
    "\\end{equation}\n",
    "\n",
    "which leads eventually to:\n",
    "\n",
    "\\begin{equation}\n",
    "    i_{\\rm dl} = \\pm i_{\\rm ext}\\frac{A_{\\rm geo}}{A_{\\rm surf}} -i _{\\rm Far}\n",
    "\\end{equation}\n",
    "where the sign on $i_{\\rm ext}$ depends on whether we deal with the cathode or the anode.  We consider positive current as the discharge current, which delivers positive charge to the anode ($i_{\\rm ext}$), and negative charge to the cathode ($-i_{\\rm ext}$). $i_{\\rm dl}$ and $i_{\\rm Far}$ both move positive charge from the electrode to the electrolyte bulk interior."
   ]
  },
  {
   "cell_type": "markdown",
   "metadata": {},
   "source": [
    "where we name the geometric factor $A_{\\rm fac}$:\n",
    "\\begin{equation}\n",
    "    A_{\\rm fac} = \\frac{A_{\\rm geo}}{A_{\\rm surf}} = \\frac{r_p}{3H_{\\rm el}\\varepsilon_{\\rm AM}}\n",
    "\\end{equation}\n",
    "where $r_p$ is the active material particle radius, $H_{\\rm el}$ is the electrode thickness, and $\\varepsilon_{\\rm AM}$ is the active material volume fraction in the electrode.\n"
   ]
  },
  {
   "cell_type": "markdown",
   "metadata": {},
   "source": [
    "### Double layer potential:\n",
    "\n",
    "The charge separation at the double layer (C/m$^2$) then evolves as:\n",
    "\n",
    "\\begin{equation}\n",
    "    \\frac{\\partial q_{\\rm dl}}{\\partial t} = i_{\\rm dl}\n",
    "\\end{equation}\n",
    "Defining the charge separation as $q_{\\rm dl} = q_{\\rm el} - q_{\\rm elyte}$ and $\\Delta \\phi_{\\rm dl} = \\phi_{\\rm el} - \\phi_{\\rm elyte}$: \n",
    "\n",
    "\\begin{equation}\n",
    "    \\frac{d\\Delta\\phi_{\\rm dl}}{dt} =\\frac{d\\left(\\phi_{\\rm el} - \\phi_{\\rm elyte}\\right)}{dt} = \\frac{i_{\\rm dl}}{C_{\\rm dl}} = \\frac{1}{C_{\\rm dl}}\\left(\\pm i_{\\rm ext}A_{\\rm fac}-i_{\\rm Far}\\right)\n",
    "\\end{equation}\n",
    "\n",
    "## Assumptions and boundary conditions.\n",
    "\n",
    "### In the anode:\n",
    "We get to pick one electric potential as our reference condition ($\\phi = 0$).  Without loss of generality, assume the anode is our reference: \n",
    "\n",
    "\\begin{equation}\n",
    "    \\phi_{\\rm an} = 0 {\\rm V.}\n",
    "\\end{equation}\n",
    "From this, we can calculate the electrolyte electric potential in the anode pores as:\n",
    "\n",
    "\\begin{equation}\n",
    "    \\phi_{\\rm elyte,an} = \\phi_{\\rm an} - \\Delta\\phi_{\\rm dl,an}\n",
    "\\end{equation}\n",
    "which means that $\\Delta\\phi_{\\rm dl}$ can serve as our state variable.\n",
    "\n",
    "### In the cathode:\n",
    "We assume, initially, that the electrolyte across the separator has a fixed resistance:\n",
    "\n",
    "\\begin{equation}\n",
    "    R_{\\rm sep} = \\frac{1}{\\sigma_{\\rm io,elyte}}\\left(H_{\\rm sep} + 0.5\\,H_{\\rm an} + 0.5\\,H_{\\rm ca}\\right)\n",
    "\\end{equation}\n",
    "where $H$ is the component thickness and $\\sigma_{\\rm io,elyte}$ is the effective ionic conductivity of the electrolyte (incorporating any microstructure effects).\n",
    "\n",
    "From this, we can calculate the elecric potential of the electrolyte in the cathode, relative to that in the anode:\n",
    "\n",
    "\\begin{equation}\n",
    "    \\phi_{\\rm elyte,ca} = \\phi_{\\rm elyte,an} - i_{\\rm ext}R_{\\rm sep}\n",
    "\\end{equation}\n",
    "Finally, we can calculate the cathode active material electric potential, relative to the known electrolyte electric potential and the double layer potential:\n",
    "\n",
    "\\begin{equation}\n",
    "    \\phi_{\\rm ca} = \\phi_{\\rm elyte,ca} + \\Delta\\phi_{\\rm dl,ca}\n",
    "\\end{equation}"
   ]
  },
  {
   "cell_type": "markdown",
   "metadata": {},
   "source": [
    "Therefore, it is sufficient to store the two double layer potentials $\\Delta\\phi_{\\rm dl,an}$ and $\\Delta\\phi_{\\rm dl,ca}$, which along with $R_{\\rm sep}$ and $i_{\\rm ext}$ can determine all electric potentials at a given time."
   ]
  },
  {
   "cell_type": "code",
   "execution_count": 35,
   "metadata": {},
   "outputs": [],
   "source": [
    "# Inputs:\n",
    "\n",
    "C_rate = 0.1 # How many charges per hour?\n",
    "\n",
    "T = 298 #K\n",
    "\n",
    "#Anode (Ag) properties (much of these need to be updated for my system)\n",
    "r_p_an = 4e-6 #m\n",
    "phi_an_0 = 0 #V reference electrode\n",
    "C_dl_an = 1e4 #F/m2, need to look up\n",
    "i_o_an = 4.0  #A/m2 need to calculate/look up\n",
    "n_an = -1\n",
    "beta_an = 0.5\n",
    "H_an = 30e-6  #m\n",
    "density_Ag = 10490 #kg/m3, UPDATED\n",
    "capacity_Ag = 350 #Ah/kg, need to look up\n",
    "eps_Ag = .65\n",
    "dPhi_eq_an = -0.7991 #standard potential for Ag, from Appendix A\n",
    "\n",
    "#seperator\n",
    "phi_sep_0 = 1.8  #V, do I actually have a separator?\n",
    "\n",
    "#Cathode (LFP/FP) properties (much of these need to be updated for my system)\n",
    "r_p_ca = 0.3e-6 #m\n",
    "phi_ca_0 = 4.6  #V\n",
    "C_dl_ca = 1e4 #F/m2\n",
    "i_o_ca = 100 #A/m2\n",
    "n_ca = -1\n",
    "beta_ca = 0.5\n",
    "H_ca = 50e-6  #m\n",
    "density_FP = 3056  #kg/m3, UPDATED\n",
    "capacity_FP = 175  #Ah/kg, ?\n",
    "eps_FP = 0.65\n",
    "dPhi_eq_ca = 2.6 #need to look up\n",
    "\n",
    "# How deep do we want to charge/discharge?\n",
    "charge_frac = 0.9"
   ]
  },
  {
   "cell_type": "markdown",
   "metadata": {},
   "source": [
    "### Capacity\n",
    "We need to calculate the total charge we can store in each electrode (the capacity). This is typically calculated in A-h (1 A-h = 3600 Coulombs). Each active material has a known gravimetric capacity, which can be converted to the electrode capacity (per m$^2$ of battery):\n",
    "\n",
    "\\begin{equation}\n",
    "    {\\rm Cap} = C_{\\rm AM}\\rho_{\\rm AM}\\varepsilon_{\\rm AM}H_{\\rm el}\n",
    "\\end{equation}\n",
    "\n",
    "The total battery capacity is the minimum of the two electrode capacities.  For a given C-rate, then, the external current density equals the C-rate multiplied by the capacity."
   ]
  },
  {
   "cell_type": "code",
   "execution_count": 36,
   "metadata": {},
   "outputs": [],
   "source": [
    "# Initialize:\n",
    "phi_dl_an_0 = phi_an_0 - phi_sep_0\n",
    "phi_dl_ca_0 = phi_ca_0 - phi_sep_0\n",
    "\n",
    "\n",
    "capacity_anode = capacity_Ag*H_an*eps_Ag*density_Ag\n",
    "capacity_cathode = capacity_FP*H_ca*eps_FP*density_FP\n",
    "capacity_area = min(capacity_anode,capacity_cathode)\n",
    "\n",
    "\n",
    "t_final = charge_frac*3600./C_rate\n",
    "i_ext = C_rate*capacity_area\n",
    "\n",
    "A_fac_an = r_p_an/3/H_an/eps_Ag\n",
    "A_fac_ca = r_p_ca/3/H_ca/eps_FP"
   ]
  },
  {
   "cell_type": "code",
   "execution_count": 37,
   "metadata": {},
   "outputs": [],
   "source": [
    "# Constants\n",
    "F = 96485\n",
    "R = 8.3145"
   ]
  },
  {
   "cell_type": "code",
   "execution_count": 38,
   "metadata": {},
   "outputs": [],
   "source": [
    "import numpy as np\n",
    "from math import exp\n",
    "\n",
    "def residual(t,SV):\n",
    "    dSV_dt = np.zeros_like(SV)\n",
    "    \n",
    "    eta_an = SV[0] - dPhi_eq_an\n",
    "    i_Far_an = i_o_an*(exp(-n_an*F*beta_an*eta_an/R/T)\n",
    "                      - exp(n_an*F*(1-beta_an)*eta_an/R/T))\n",
    "    i_dl_an = i_ext*A_fac_an - i_Far_an\n",
    "    dSV_dt[0] = i_dl_an/C_dl_an\n",
    "    \n",
    "    \n",
    "    eta_ca = SV[1] - dPhi_eq_ca\n",
    "    i_Far_ca = i_o_ca*(exp(-n_ca*F*beta_ca*eta_ca/R/T)\n",
    "                      - exp(n_ca*F*(1-beta_ca)*eta_ca/R/T))\n",
    "    i_dl_ca = -i_ext*A_fac_ca - i_Far_ca\n",
    "    \n",
    "    \n",
    "    dSV_dt[1] = i_dl_ca/C_dl_ca\n",
    "    \n",
    "    return dSV_dt"
   ]
  },
  {
   "cell_type": "code",
   "execution_count": 39,
   "metadata": {},
   "outputs": [
    {
     "ename": "OverflowError",
     "evalue": "math range error",
     "output_type": "error",
     "traceback": [
      "\u001b[1;31m---------------------------------------------------------------------------\u001b[0m",
      "\u001b[1;31mOverflowError\u001b[0m                             Traceback (most recent call last)",
      "\u001b[1;32m<ipython-input-39-ee23e1379272>\u001b[0m in \u001b[0;36m<module>\u001b[1;34m\u001b[0m\n\u001b[0;32m      5\u001b[0m \u001b[0mtime_span\u001b[0m \u001b[1;33m=\u001b[0m \u001b[0mnp\u001b[0m\u001b[1;33m.\u001b[0m\u001b[0marray\u001b[0m\u001b[1;33m(\u001b[0m\u001b[1;33m[\u001b[0m\u001b[1;36m0\u001b[0m\u001b[1;33m,\u001b[0m\u001b[0mt_final\u001b[0m\u001b[1;33m]\u001b[0m\u001b[1;33m)\u001b[0m\u001b[1;33m\u001b[0m\u001b[1;33m\u001b[0m\u001b[0m\n\u001b[0;32m      6\u001b[0m \u001b[1;33m\u001b[0m\u001b[0m\n\u001b[1;32m----> 7\u001b[1;33m \u001b[0msolution\u001b[0m \u001b[1;33m=\u001b[0m \u001b[0msolve_ivp\u001b[0m\u001b[1;33m(\u001b[0m\u001b[0mresidual\u001b[0m\u001b[1;33m,\u001b[0m\u001b[0mtime_span\u001b[0m\u001b[1;33m,\u001b[0m\u001b[0mSV_0\u001b[0m\u001b[1;33m,\u001b[0m\u001b[0mrtol\u001b[0m\u001b[1;33m=\u001b[0m\u001b[1;36m1e-6\u001b[0m\u001b[1;33m,\u001b[0m \u001b[0matol\u001b[0m\u001b[1;33m=\u001b[0m\u001b[1;36m1e-8\u001b[0m\u001b[1;33m)\u001b[0m\u001b[1;33m\u001b[0m\u001b[1;33m\u001b[0m\u001b[0m\n\u001b[0m",
      "\u001b[1;32m~\\anaconda3\\lib\\site-packages\\scipy\\integrate\\_ivp\\ivp.py\u001b[0m in \u001b[0;36msolve_ivp\u001b[1;34m(fun, t_span, y0, method, t_eval, dense_output, events, vectorized, args, **options)\u001b[0m\n\u001b[0;32m    575\u001b[0m     \u001b[0mstatus\u001b[0m \u001b[1;33m=\u001b[0m \u001b[1;32mNone\u001b[0m\u001b[1;33m\u001b[0m\u001b[1;33m\u001b[0m\u001b[0m\n\u001b[0;32m    576\u001b[0m     \u001b[1;32mwhile\u001b[0m \u001b[0mstatus\u001b[0m \u001b[1;32mis\u001b[0m \u001b[1;32mNone\u001b[0m\u001b[1;33m:\u001b[0m\u001b[1;33m\u001b[0m\u001b[1;33m\u001b[0m\u001b[0m\n\u001b[1;32m--> 577\u001b[1;33m         \u001b[0mmessage\u001b[0m \u001b[1;33m=\u001b[0m \u001b[0msolver\u001b[0m\u001b[1;33m.\u001b[0m\u001b[0mstep\u001b[0m\u001b[1;33m(\u001b[0m\u001b[1;33m)\u001b[0m\u001b[1;33m\u001b[0m\u001b[1;33m\u001b[0m\u001b[0m\n\u001b[0m\u001b[0;32m    578\u001b[0m \u001b[1;33m\u001b[0m\u001b[0m\n\u001b[0;32m    579\u001b[0m         \u001b[1;32mif\u001b[0m \u001b[0msolver\u001b[0m\u001b[1;33m.\u001b[0m\u001b[0mstatus\u001b[0m \u001b[1;33m==\u001b[0m \u001b[1;34m'finished'\u001b[0m\u001b[1;33m:\u001b[0m\u001b[1;33m\u001b[0m\u001b[1;33m\u001b[0m\u001b[0m\n",
      "\u001b[1;32m~\\anaconda3\\lib\\site-packages\\scipy\\integrate\\_ivp\\base.py\u001b[0m in \u001b[0;36mstep\u001b[1;34m(self)\u001b[0m\n\u001b[0;32m    180\u001b[0m         \u001b[1;32melse\u001b[0m\u001b[1;33m:\u001b[0m\u001b[1;33m\u001b[0m\u001b[1;33m\u001b[0m\u001b[0m\n\u001b[0;32m    181\u001b[0m             \u001b[0mt\u001b[0m \u001b[1;33m=\u001b[0m \u001b[0mself\u001b[0m\u001b[1;33m.\u001b[0m\u001b[0mt\u001b[0m\u001b[1;33m\u001b[0m\u001b[1;33m\u001b[0m\u001b[0m\n\u001b[1;32m--> 182\u001b[1;33m             \u001b[0msuccess\u001b[0m\u001b[1;33m,\u001b[0m \u001b[0mmessage\u001b[0m \u001b[1;33m=\u001b[0m \u001b[0mself\u001b[0m\u001b[1;33m.\u001b[0m\u001b[0m_step_impl\u001b[0m\u001b[1;33m(\u001b[0m\u001b[1;33m)\u001b[0m\u001b[1;33m\u001b[0m\u001b[1;33m\u001b[0m\u001b[0m\n\u001b[0m\u001b[0;32m    183\u001b[0m \u001b[1;33m\u001b[0m\u001b[0m\n\u001b[0;32m    184\u001b[0m             \u001b[1;32mif\u001b[0m \u001b[1;32mnot\u001b[0m \u001b[0msuccess\u001b[0m\u001b[1;33m:\u001b[0m\u001b[1;33m\u001b[0m\u001b[1;33m\u001b[0m\u001b[0m\n",
      "\u001b[1;32m~\\anaconda3\\lib\\site-packages\\scipy\\integrate\\_ivp\\rk.py\u001b[0m in \u001b[0;36m_step_impl\u001b[1;34m(self)\u001b[0m\n\u001b[0;32m    144\u001b[0m \u001b[1;33m\u001b[0m\u001b[0m\n\u001b[0;32m    145\u001b[0m             y_new, f_new = rk_step(self.fun, t, y, self.f, h, self.A,\n\u001b[1;32m--> 146\u001b[1;33m                                    self.B, self.C, self.K)\n\u001b[0m\u001b[0;32m    147\u001b[0m             \u001b[0mscale\u001b[0m \u001b[1;33m=\u001b[0m \u001b[0matol\u001b[0m \u001b[1;33m+\u001b[0m \u001b[0mnp\u001b[0m\u001b[1;33m.\u001b[0m\u001b[0mmaximum\u001b[0m\u001b[1;33m(\u001b[0m\u001b[0mnp\u001b[0m\u001b[1;33m.\u001b[0m\u001b[0mabs\u001b[0m\u001b[1;33m(\u001b[0m\u001b[0my\u001b[0m\u001b[1;33m)\u001b[0m\u001b[1;33m,\u001b[0m \u001b[0mnp\u001b[0m\u001b[1;33m.\u001b[0m\u001b[0mabs\u001b[0m\u001b[1;33m(\u001b[0m\u001b[0my_new\u001b[0m\u001b[1;33m)\u001b[0m\u001b[1;33m)\u001b[0m \u001b[1;33m*\u001b[0m \u001b[0mrtol\u001b[0m\u001b[1;33m\u001b[0m\u001b[1;33m\u001b[0m\u001b[0m\n\u001b[0;32m    148\u001b[0m             \u001b[0merror_norm\u001b[0m \u001b[1;33m=\u001b[0m \u001b[0mself\u001b[0m\u001b[1;33m.\u001b[0m\u001b[0m_estimate_error_norm\u001b[0m\u001b[1;33m(\u001b[0m\u001b[0mself\u001b[0m\u001b[1;33m.\u001b[0m\u001b[0mK\u001b[0m\u001b[1;33m,\u001b[0m \u001b[0mh\u001b[0m\u001b[1;33m,\u001b[0m \u001b[0mscale\u001b[0m\u001b[1;33m)\u001b[0m\u001b[1;33m\u001b[0m\u001b[1;33m\u001b[0m\u001b[0m\n",
      "\u001b[1;32m~\\anaconda3\\lib\\site-packages\\scipy\\integrate\\_ivp\\rk.py\u001b[0m in \u001b[0;36mrk_step\u001b[1;34m(fun, t, y, f, h, A, B, C, K)\u001b[0m\n\u001b[0;32m     63\u001b[0m     \u001b[1;32mfor\u001b[0m \u001b[0ms\u001b[0m\u001b[1;33m,\u001b[0m \u001b[1;33m(\u001b[0m\u001b[0ma\u001b[0m\u001b[1;33m,\u001b[0m \u001b[0mc\u001b[0m\u001b[1;33m)\u001b[0m \u001b[1;32min\u001b[0m \u001b[0menumerate\u001b[0m\u001b[1;33m(\u001b[0m\u001b[0mzip\u001b[0m\u001b[1;33m(\u001b[0m\u001b[0mA\u001b[0m\u001b[1;33m[\u001b[0m\u001b[1;36m1\u001b[0m\u001b[1;33m:\u001b[0m\u001b[1;33m]\u001b[0m\u001b[1;33m,\u001b[0m \u001b[0mC\u001b[0m\u001b[1;33m[\u001b[0m\u001b[1;36m1\u001b[0m\u001b[1;33m:\u001b[0m\u001b[1;33m]\u001b[0m\u001b[1;33m)\u001b[0m\u001b[1;33m,\u001b[0m \u001b[0mstart\u001b[0m\u001b[1;33m=\u001b[0m\u001b[1;36m1\u001b[0m\u001b[1;33m)\u001b[0m\u001b[1;33m:\u001b[0m\u001b[1;33m\u001b[0m\u001b[1;33m\u001b[0m\u001b[0m\n\u001b[0;32m     64\u001b[0m         \u001b[0mdy\u001b[0m \u001b[1;33m=\u001b[0m \u001b[0mnp\u001b[0m\u001b[1;33m.\u001b[0m\u001b[0mdot\u001b[0m\u001b[1;33m(\u001b[0m\u001b[0mK\u001b[0m\u001b[1;33m[\u001b[0m\u001b[1;33m:\u001b[0m\u001b[0ms\u001b[0m\u001b[1;33m]\u001b[0m\u001b[1;33m.\u001b[0m\u001b[0mT\u001b[0m\u001b[1;33m,\u001b[0m \u001b[0ma\u001b[0m\u001b[1;33m[\u001b[0m\u001b[1;33m:\u001b[0m\u001b[0ms\u001b[0m\u001b[1;33m]\u001b[0m\u001b[1;33m)\u001b[0m \u001b[1;33m*\u001b[0m \u001b[0mh\u001b[0m\u001b[1;33m\u001b[0m\u001b[1;33m\u001b[0m\u001b[0m\n\u001b[1;32m---> 65\u001b[1;33m         \u001b[0mK\u001b[0m\u001b[1;33m[\u001b[0m\u001b[0ms\u001b[0m\u001b[1;33m]\u001b[0m \u001b[1;33m=\u001b[0m \u001b[0mfun\u001b[0m\u001b[1;33m(\u001b[0m\u001b[0mt\u001b[0m \u001b[1;33m+\u001b[0m \u001b[0mc\u001b[0m \u001b[1;33m*\u001b[0m \u001b[0mh\u001b[0m\u001b[1;33m,\u001b[0m \u001b[0my\u001b[0m \u001b[1;33m+\u001b[0m \u001b[0mdy\u001b[0m\u001b[1;33m)\u001b[0m\u001b[1;33m\u001b[0m\u001b[1;33m\u001b[0m\u001b[0m\n\u001b[0m\u001b[0;32m     66\u001b[0m \u001b[1;33m\u001b[0m\u001b[0m\n\u001b[0;32m     67\u001b[0m     \u001b[0my_new\u001b[0m \u001b[1;33m=\u001b[0m \u001b[0my\u001b[0m \u001b[1;33m+\u001b[0m \u001b[0mh\u001b[0m \u001b[1;33m*\u001b[0m \u001b[0mnp\u001b[0m\u001b[1;33m.\u001b[0m\u001b[0mdot\u001b[0m\u001b[1;33m(\u001b[0m\u001b[0mK\u001b[0m\u001b[1;33m[\u001b[0m\u001b[1;33m:\u001b[0m\u001b[1;33m-\u001b[0m\u001b[1;36m1\u001b[0m\u001b[1;33m]\u001b[0m\u001b[1;33m.\u001b[0m\u001b[0mT\u001b[0m\u001b[1;33m,\u001b[0m \u001b[0mB\u001b[0m\u001b[1;33m)\u001b[0m\u001b[1;33m\u001b[0m\u001b[1;33m\u001b[0m\u001b[0m\n",
      "\u001b[1;32m~\\anaconda3\\lib\\site-packages\\scipy\\integrate\\_ivp\\base.py\u001b[0m in \u001b[0;36mfun\u001b[1;34m(t, y)\u001b[0m\n\u001b[0;32m    137\u001b[0m         \u001b[1;32mdef\u001b[0m \u001b[0mfun\u001b[0m\u001b[1;33m(\u001b[0m\u001b[0mt\u001b[0m\u001b[1;33m,\u001b[0m \u001b[0my\u001b[0m\u001b[1;33m)\u001b[0m\u001b[1;33m:\u001b[0m\u001b[1;33m\u001b[0m\u001b[1;33m\u001b[0m\u001b[0m\n\u001b[0;32m    138\u001b[0m             \u001b[0mself\u001b[0m\u001b[1;33m.\u001b[0m\u001b[0mnfev\u001b[0m \u001b[1;33m+=\u001b[0m \u001b[1;36m1\u001b[0m\u001b[1;33m\u001b[0m\u001b[1;33m\u001b[0m\u001b[0m\n\u001b[1;32m--> 139\u001b[1;33m             \u001b[1;32mreturn\u001b[0m \u001b[0mself\u001b[0m\u001b[1;33m.\u001b[0m\u001b[0mfun_single\u001b[0m\u001b[1;33m(\u001b[0m\u001b[0mt\u001b[0m\u001b[1;33m,\u001b[0m \u001b[0my\u001b[0m\u001b[1;33m)\u001b[0m\u001b[1;33m\u001b[0m\u001b[1;33m\u001b[0m\u001b[0m\n\u001b[0m\u001b[0;32m    140\u001b[0m \u001b[1;33m\u001b[0m\u001b[0m\n\u001b[0;32m    141\u001b[0m         \u001b[0mself\u001b[0m\u001b[1;33m.\u001b[0m\u001b[0mfun\u001b[0m \u001b[1;33m=\u001b[0m \u001b[0mfun\u001b[0m\u001b[1;33m\u001b[0m\u001b[1;33m\u001b[0m\u001b[0m\n",
      "\u001b[1;32m~\\anaconda3\\lib\\site-packages\\scipy\\integrate\\_ivp\\base.py\u001b[0m in \u001b[0;36mfun_wrapped\u001b[1;34m(t, y)\u001b[0m\n\u001b[0;32m     19\u001b[0m \u001b[1;33m\u001b[0m\u001b[0m\n\u001b[0;32m     20\u001b[0m     \u001b[1;32mdef\u001b[0m \u001b[0mfun_wrapped\u001b[0m\u001b[1;33m(\u001b[0m\u001b[0mt\u001b[0m\u001b[1;33m,\u001b[0m \u001b[0my\u001b[0m\u001b[1;33m)\u001b[0m\u001b[1;33m:\u001b[0m\u001b[1;33m\u001b[0m\u001b[1;33m\u001b[0m\u001b[0m\n\u001b[1;32m---> 21\u001b[1;33m         \u001b[1;32mreturn\u001b[0m \u001b[0mnp\u001b[0m\u001b[1;33m.\u001b[0m\u001b[0masarray\u001b[0m\u001b[1;33m(\u001b[0m\u001b[0mfun\u001b[0m\u001b[1;33m(\u001b[0m\u001b[0mt\u001b[0m\u001b[1;33m,\u001b[0m \u001b[0my\u001b[0m\u001b[1;33m)\u001b[0m\u001b[1;33m,\u001b[0m \u001b[0mdtype\u001b[0m\u001b[1;33m=\u001b[0m\u001b[0mdtype\u001b[0m\u001b[1;33m)\u001b[0m\u001b[1;33m\u001b[0m\u001b[1;33m\u001b[0m\u001b[0m\n\u001b[0m\u001b[0;32m     22\u001b[0m \u001b[1;33m\u001b[0m\u001b[0m\n\u001b[0;32m     23\u001b[0m     \u001b[1;32mreturn\u001b[0m \u001b[0mfun_wrapped\u001b[0m\u001b[1;33m,\u001b[0m \u001b[0my0\u001b[0m\u001b[1;33m\u001b[0m\u001b[1;33m\u001b[0m\u001b[0m\n",
      "\u001b[1;32m<ipython-input-38-b65833e9dadf>\u001b[0m in \u001b[0;36mresidual\u001b[1;34m(t, SV)\u001b[0m\n\u001b[0;32m      6\u001b[0m \u001b[1;33m\u001b[0m\u001b[0m\n\u001b[0;32m      7\u001b[0m     \u001b[0meta_an\u001b[0m \u001b[1;33m=\u001b[0m \u001b[0mSV\u001b[0m\u001b[1;33m[\u001b[0m\u001b[1;36m0\u001b[0m\u001b[1;33m]\u001b[0m \u001b[1;33m-\u001b[0m \u001b[0mdPhi_eq_an\u001b[0m\u001b[1;33m\u001b[0m\u001b[1;33m\u001b[0m\u001b[0m\n\u001b[1;32m----> 8\u001b[1;33m     i_Far_an = i_o_an*(exp(-n_an*F*beta_an*eta_an/R/T)\n\u001b[0m\u001b[0;32m      9\u001b[0m                       - exp(n_an*F*(1-beta_an)*eta_an/R/T))\n\u001b[0;32m     10\u001b[0m     \u001b[0mi_dl_an\u001b[0m \u001b[1;33m=\u001b[0m \u001b[0mi_ext\u001b[0m\u001b[1;33m*\u001b[0m\u001b[0mA_fac_an\u001b[0m \u001b[1;33m-\u001b[0m \u001b[0mi_Far_an\u001b[0m\u001b[1;33m\u001b[0m\u001b[1;33m\u001b[0m\u001b[0m\n",
      "\u001b[1;31mOverflowError\u001b[0m: math range error"
     ]
    }
   ],
   "source": [
    "from scipy.integrate import solve_ivp\n",
    "\n",
    "SV_0 = np.array([phi_dl_an_0, phi_dl_ca_0])\n",
    "\n",
    "time_span = np.array([0,t_final])\n",
    "\n",
    "solution = solve_ivp(residual,time_span,SV_0,rtol=1e-6, atol=1e-8)"
   ]
  },
  {
   "cell_type": "code",
   "execution_count": null,
   "metadata": {},
   "outputs": [],
   "source": [
    "from matplotlib import pyplot as plt\n",
    "for var in solution.y:\n",
    "    plt.plot(solution.t,var)\n",
    "    \n",
    "plt.legend(['Anode double layer','Cathode double layer'])"
   ]
  },
  {
   "cell_type": "markdown",
   "metadata": {},
   "source": [
    "For now, the double layer potentials simply go to those values needed to sustain the current density."
   ]
  },
  {
   "cell_type": "markdown",
   "metadata": {},
   "source": [
    "## Questions\n",
    "- Do I have a separator in my system? Or do I just have two electrodes suspended in brine. I left it here for now.\n",
    "- Does it make sense that I am calling my lithium collection electrode the cathode? Delivering negative current to the cathode should intercalate the Li ions into the cathode, and reversing the current should release them, I think.\n",
    "- If I don't have a separator, how do I calculate 𝜙elyte,ca? \n",
    "- in my python model, if I put dphi_eq_an = -0.7991 (standard potential of Ag, from Appendix A of the textbook), I get a math overflow error in python when I try to run the model.py file. I'm not sure what is going on"
   ]
  },
  {
   "cell_type": "markdown",
   "metadata": {},
   "source": [
    "## References\n",
    "1.  A. Battistel, M.S. Palagonia et al., “Electrochemical Methods for Lithium Recovery:A Comprehensive and Critical Review,” Advanced Materials, vol. 32, no. 23, 2020\n",
    "\n",
    "2. C.P. Lawagon, G.M. Nisola et al., \"Li1−xNi0.33Co1/3Mn1/3O2/Ag for electrochemical lithium recovery from brine,\" Cheimcal Engineering Journal, vol. 348, no. 15, 2018"
   ]
  },
  {
   "cell_type": "code",
   "execution_count": null,
   "metadata": {},
   "outputs": [],
   "source": []
  }
 ],
 "metadata": {
  "kernelspec": {
   "display_name": "Python 3",
   "language": "python",
   "name": "python3"
  },
  "language_info": {
   "codemirror_mode": {
    "name": "ipython",
    "version": 3
   },
   "file_extension": ".py",
   "mimetype": "text/x-python",
   "name": "python",
   "nbconvert_exporter": "python",
   "pygments_lexer": "ipython3",
   "version": "3.7.6"
  }
 },
 "nbformat": 4,
 "nbformat_minor": 4
}
