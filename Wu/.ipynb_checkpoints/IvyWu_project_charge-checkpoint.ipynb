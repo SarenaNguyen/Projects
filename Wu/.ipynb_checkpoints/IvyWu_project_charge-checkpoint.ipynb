{
 "cells": [
  {
   "cell_type": "code",
   "execution_count": 70,
   "metadata": {},
   "outputs": [],
   "source": [
    "import numpy as np\n",
    "from math import exp\n",
    "\n",
    "T=293 #K\n",
    "n= 2\n",
    "R=8.314\n",
    "F=96485\n",
    "C_an=np.array([.12, .12,0, .12]) #NH4, PO4, Mg, H+. Molar\n",
    "z_k=np.array([1,-3,2,1])\n",
    "C_ca=C_an\n",
    "D_k=np.array([1.98e-9, 0.612e-9,0.705e-9, 9.310e-9])#m2/s from aquion.de\n",
    "\n",
    "P_H2=.01 #idk\n",
    "i_o=.1 #idk\n",
    "\n",
    "j_ext=10e-3 #A/cm2\n",
    "A=1.67 #cm2\n",
    "#i_ext=j*A\n",
    "beta=0.5\n",
    "\n",
    "\n",
    "phi_eq_an=-2.357 #V SHE\n",
    "phi_eq_ca=0\n",
    "\n",
    "phi_an=phi_eq_an-(R*T/(n*F)*np.log(C_an[0])) #V\n",
    "phi_elyte=0.5\n",
    "phi_ca=phi_eq_ca-(R*T/(n*F)*np.log(P_H2))\n",
    "\n",
    "phi_ext=np.array(np.linspace(0,1,10))\n",
    "i=np.zeros_like(phi_ext)\n",
    "g=0\n",
    "# for phi_ext2 in phi_ext:\n",
    "#     eta_an=phi_ext2-phi_an\n",
    "#     eta_ca=phi_ext2-phi_ca\n",
    "\n",
    "#     if eta_an>eta_ca:\n",
    "#         eta=eta_an\n",
    "#     else:\n",
    "#         eta=eta_ca\n",
    "#     i[g]=i_o*(exp((1-beta)*F*eta/(R*T))-exp(-beta*F*eta/(R*T)))\n",
    "#     g+=1\n"
   ]
  },
  {
   "cell_type": "code",
   "execution_count": 78,
   "metadata": {},
   "outputs": [
    {
     "name": "stdout",
     "output_type": "stream",
     "text": [
      "[ 0.          1.11111111  2.22222222  3.33333333  4.44444444  5.55555556\n",
      "  6.66666667  7.77777778  8.88888889 10.        ]\n",
      "[0. 0. 0. 0. 0. 0. 0. 0. 0. 0.]\n"
     ]
    }
   ],
   "source": [
    "from scipy.optimize import fsolve\n",
    "I_ext=np.array(np.linspace(0,10,10))\n",
    "eta_an=np.zeros_like(I_ext)\n",
    "g=0\n",
    "x0=[1e-5]\n",
    "dphi=np.zeros_like(eta)\n",
    "def eq1(eta):\n",
    "        eq1=i_o*(exp((1-beta)*F*eta/(R*T))-exp(-beta*F*eta/(R*T)))-I_ext[g]\n",
    "        return eq1\n",
    "\n",
    "for I_ex2 in I_ext:\n",
    "    root=fsolve(eq1,x0)\n",
    "    eta_an[g]=root\n",
    "    dphi[g]=eta[g]+phi_eq_an\n",
    "    g+=1\n",
    "    \n",
    "print (I_ext)\n",
    "print(eta)"
   ]
  },
  {
   "cell_type": "code",
   "execution_count": 79,
   "metadata": {},
   "outputs": [
    {
     "data": {
      "text/plain": [
       "<matplotlib.legend.Legend at 0x19aadd01ee0>"
      ]
     },
     "execution_count": 79,
     "metadata": {},
     "output_type": "execute_result"
    },
    {
     "data": {
      "image/png": "[encoded data removed]",
      "text/plain": [
       "<Figure size 432x288 with 1 Axes>"
      ]
     },
     "metadata": {
      "needs_background": "light"
     },
     "output_type": "display_data"
    }
   ],
   "source": [
    "from matplotlib import pyplot as plt\n",
    "\n",
    "plt.plot(I_ext,dphi)\n",
    "    \n",
    "plt.legend(['dphi'])"
   ]
  }
 ],
 "metadata": {
  "kernelspec": {
   "display_name": "Python 3",
   "language": "python",
   "name": "python3"
  },
  "language_info": {
   "codemirror_mode": {
    "name": "ipython",
    "version": 3
   },
   "file_extension": ".py",
   "mimetype": "text/x-python",
   "name": "python",
   "nbconvert_exporter": "python",
   "pygments_lexer": "ipython3",
   "version": "3.8.3"
  }
 },
 "nbformat": 4,
 "nbformat_minor": 4
}
