{
 "cells": [
  {
   "cell_type": "code",
   "execution_count": null,
   "metadata": {},
   "outputs": [],
   "source": [
    "import numpy as np"
   ]
  },
  {
   "cell_type": "code",
   "execution_count": null,
   "metadata": {},
   "outputs": [],
   "source": [
    "def phys_chem_props()\n",
    "    \n",
    "    #====Physical Parameters====\n",
    "    #Temperature (K)\n",
    "    T = 25+273\n",
    "    \n",
    "    \n",
    "    #====Cathode Materials Physical Parameters====\n",
    "    #Molar Volume (m3/mol) [S8, Li2S8, Li2S4, Li2S2, Li2S]\n",
    "    V_k = [1.239e-4, 1.361e-4, 7.415e-5, 4.317e-5, 2.768e-5]\n",
    "    \n",
    "    \n",
    "    #====Electrolyte Physical Parameters====\n",
    "    #Species charge [Li^+, S8, S8^2-, S6^2-, S4^2-, S2^2-, S^2-, A^-]\n",
    "    z_k = [1, 0, -2, -2, -2, -2, -2, -1]\n",
    "    \n",
    "    #Species Diffusivity (m2/s) [Li^+, S8, S8^2-, S6^2-, S4^2-, S2^2-, S^2-, A^-]\n",
    "    D_k = [1e-10, 1e-9, 6e-10, 6e-10, 1e-10, 1e-10, 1e-10, 4e-10]\n",
    "    \n",
    "    #Bruggeman coefficient\n",
    "    b = 1.5\n",
    "    \n",
    "    #====Initial Cathode Dry Composition====\n",
    "    #Mass Fraction [S8, C]\n",
    "    w_k = [0.4, 0.6]\n",
    "    #Molar mass (kg/mol)\n",
    "    M_k = [0.25648, 0.012011]\n",
    "    #Volume at 1kg basis (m3)\n",
    "    V_k_dry = w_k/M_k\n",
    "    \n",
    "    \n",
    "    #====Reaction Parameters====\n",
    "    #Butler-Volmer Parameters\n",
    "    i_o_k = [0.394, 1.972, 0.019, 0.019, 1.97e-4, 1.97e-4]\n",
    "    alpha = 0.5\n",
    "    n_elec = 1\n",
    "    U_half = [0.0, 2.39, 2.37, 2.24, 2.04, 2.01]\n",
    "    \n",
    "    #Precipitation Parameters [S8, Li2S8, Li2S4, Li2S2, Li2S]\n",
    "    k_precip = [1, 1e-4, 9.98e-5, 9.98e-5, 27.5]\n",
    "    K_sol = [19, 38.09, 11.26, 5.1e-3, 3.0e-5]\n",
    "    \n",
    "    \n",
    "    #====Initial Conditions====\n",
    "    #Reference (Initial) Concentrations (mol/m3) [Li^+, S8, S8^2-, S6^2-, S4^2-, S2^2-, S^2-, A^-]\n",
    "    C_k_ref = [1001.04, 19.0, 0.178, 0.324, 0.020, 5.229e-7, 8.267e-10, 1000.0]\n",
    "    \n",
    "    #Initial Liquid Porosity\n",
    "    eps_sep_init = 0.37 #separator\n",
    "    eps_elyte_cat_init = 0.778 #cathode\n",
    "    \n",
    "    #Initial Volume Fractions [S8, Li2S8, Li2S4, Li2S2, Li2S]\n",
    "    V_elyte_int = np.sum(V_k_dry)/(1 - eps_cat_init)\n",
    "    V_S8_cat_init = V_k_dry[0]/(np.sum(V_k_dry) + V_elyte_init)\n",
    "    \n",
    "    eps_k_cat_init = [V_S8_cat_init, 1e-6, 1e-6, 1e-6, 1e-7]\n",
    "    eps_k_sep_init = [1e-12, 1e-6, 1e-6, 1e-6, 1e-7]\n",
    "    \n",
    "    #Initial Cathode Surface Area (m2/m3)\n",
    "    a_init = 132762\n",
    "    \n",
    "    return T, V_k, z_k, D_k, b, i_o_k, alpha, n_elec, U_half, k_precip, K_sol, C_k_ref, eps_sep_init, eps_elyte_cat_init, eps_k_cat_init, eps_k_sep_init, a_init"
   ]
  }
 ],
 "metadata": {
  "kernelspec": {
   "display_name": "Python 3",
   "language": "python",
   "name": "python3"
  },
  "language_info": {
   "codemirror_mode": {
    "name": "ipython",
    "version": 3
   },
   "file_extension": ".py",
   "mimetype": "text/x-python",
   "name": "python",
   "nbconvert_exporter": "python",
   "pygments_lexer": "ipython3",
   "version": "3.7.3"
  }
 },
 "nbformat": 4,
 "nbformat_minor": 2
}
