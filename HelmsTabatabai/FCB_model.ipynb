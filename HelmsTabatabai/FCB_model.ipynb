{
 "cells": [
  {
   "cell_type": "markdown",
   "metadata": {},
   "source": [
    "# Model domain:\n",
    "- Porous graphite anode\n",
    "- Porous electrolyte separator (LiPF6 & Ethylene Carbonate:Dimethyl Carbonate)\n",
    "- Porous LiCoO2 cathode \n",
    "\n",
    "State variables:\n",
    "- Li volume fraction $X_{\\rm Li}$ in the graphite, $X_{\\rm Li,an}$\n",
    "- Electric potential of the graphite\n",
    "- Concentration of the Li+ in the electrolyte in the anode.\n",
    "- Electrolyte electric potential in the anode, $\\phi_{\\rm an}$\n",
    "- Concentration of the Li+ in the electrolyte in the separator.\n",
    "- Electrolyte electric potential in the separator, $\\phi_{\\rm sep}$\n",
    "- Concentration of the Li+ in the electrolyte in the cathode.\n",
    "- Electrolyte electric potential in the cathode, $\\phi_{\\rm ca}$\n",
    "- Li intercalation fraction $X_{\\rm Li}$ in the LCO, $X_{\\rm Li,ca}$\n",
    "- Electric potential in the LCO\n",
    "\n",
    "\n",
    "# Double Layer Current \n",
    "\\begin{equation}\n",
    "    \\frac{\\partial Q_{\\rm el}}{\\partial t} = 0 = -I_{\\rm ext} -i _{\\rm Far}A_{\\rm surf} - i_{\\rm dl}A_{\\rm surf}\n",
    "\\end{equation}\n",
    "\\begin{equation}\n",
    "    I_{\\rm ext} = i_{\\rm ext}A_{\\rm geo}\n",
    "\\end{equation}\n",
    "\n",
    "\\begin{equation}\n",
    "    i_{\\rm dl} = -i_{\\rm ext}\\frac{A_{\\rm geo}}{A_{\\rm surf}} -i _{\\rm Far}\n",
    "\\end{equation}\n",
    "\n",
    "\\begin{equation}\n",
    "    A_{\\rm surf} = 4\\pi r_p^2 N_p\n",
    "\\end{equation}    \n",
    "\\begin{equation}\n",
    "    n_p = \\frac{N_p}{A_{geo}}\n",
    "\\end{equation}\n",
    "\n",
    "\\begin{equation} \n",
    "    \\varepsilon_s = \\frac{V_{solids}}{V_{total}} = \\frac{N_p\\frac{4}{3}{\\pi}r_p^3}{A_{geo} H_{el}}\n",
    "\\end{equation}\n",
    "\n",
    "\\begin{equation}\n",
    "    n_p = \\frac{3 H_{el} \\varepsilon_s}{4 \\pi r_p^3}\n",
    "\\end{equation}\n",
    "\n",
    "\\begin{equation}\n",
    "    A_{\\rm surf} = 4\\pi r_p^2 A_{geo} n_p\n",
    "\\end{equation} \n",
    "\n",
    "\\begin{equation}\n",
    "    \\frac{A_{geo}}{A_{\\rm surf}} = \\frac{1}{4\\pi r_p^2 n_p}\n",
    "\\end{equation} \n",
    "\n",
    "\\begin{equation}\n",
    "    \\frac{A_{geo}}{A_{\\rm surf}} = \\frac{4 \\pi r_p^2}{4\\pi r_p^2 3 H_{el} \\varepsilon_s}\n",
    "\\end{equation} \n",
    "\n",
    "\\begin{equation}\n",
    "    \\frac{A_{geo}}{A_{\\rm surf}} = \\frac{r_p}{3 H_{el} \\varepsilon_s}\n",
    "\\end{equation} \n",
    "\n",
    "\\begin{equation}\n",
    "    i_{\\rm dl} = -i_{\\rm ext}\\frac{r_p}{3 H_{el} \\varepsilon_s} -i _{\\rm Far}\n",
    "\\end{equation}"
   ]
  },
  {
   "cell_type": "markdown",
   "metadata": {},
   "source": []
  },
  {
   "cell_type": "code",
   "execution_count": null,
   "metadata": {},
   "outputs": [],
   "source": []
  }
 ],
 "metadata": {
  "kernelspec": {
   "display_name": "Python 3",
   "language": "python",
   "name": "python3"
  },
  "language_info": {
   "codemirror_mode": {
    "name": "ipython",
    "version": 3
   },
   "file_extension": ".py",
   "mimetype": "text/x-python",
   "name": "python",
   "nbconvert_exporter": "python",
   "pygments_lexer": "ipython3",
   "version": "3.7.3"
  }
 },
 "nbformat": 4,
 "nbformat_minor": 2
}
