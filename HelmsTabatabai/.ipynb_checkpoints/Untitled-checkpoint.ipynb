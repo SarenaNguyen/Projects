{
 "cells": [
  {
   "cell_type": "code",
   "execution_count": 15,
   "metadata": {},
   "outputs": [
    {
     "data": {
      "text/plain": [
       "Text(0.5, 0, 'Time(s)')"
      ]
     },
     "execution_count": 15,
     "metadata": {},
     "output_type": "execute_result"
    },
    {
     "data": {
      "image/png": "[encoded data removed]",
      "text/plain": [
       "<Figure size 432x288 with 1 Axes>"
      ]
     },
     "metadata": {
      "needs_background": "light"
     },
     "output_type": "display_data"
    }
   ],
   "source": [
    "\"User Inputs\"\n",
    "C_rate = 6 # How many charges per hour? \n",
    "\n",
    "T = 298 #K W\n",
    "\n",
    "charge_frac = 0.9\n",
    "r_p_an = 4e-6 #m\n",
    "phi_an_0 = 0 #V \n",
    "C_dl_an = 1e4 #F/m2\n",
    "i_o_an = 4.0  #A/m2\n",
    "n_an = -1\n",
    "beta_an = 0.5\n",
    "H_an = 30e-6  #m\n",
    "density_graphite = 2260 #kg/m3\n",
    "capacity_graphite = 350 #Ah/kg\n",
    "eps_graphite = .65\n",
    "dPhi_eq_an = -1.6\n",
    "\n",
    "phi_sep_0 = 1.8  #V W \n",
    "\n",
    "r_p_ca = 0.3e-6 #m\n",
    "phi_ca_0 = 4.6  #V \n",
    "C_dl_ca = 1e4 #F/m2\n",
    "i_o_ca = 100 #A/m2\n",
    "n_ca = -1\n",
    "beta_ca = 0.5\n",
    "H_ca = 50e-6  #m\n",
    "density_LCO = 2292  #kg/m3\n",
    "capacity_LCO = 175  #Ah/kg\n",
    "eps_LCO = 0.65\n",
    "dPhi_eq_ca = 2.6\n",
    "\n",
    "F = 96485 #C/mol\n",
    "R = 8.314 #J/mol*K\n",
    "\n",
    "#mass transport parameters\n",
    "mu =  0.0015  #viscosity kg/m/s\n",
    "n_brugg = -0.5 #Bruggeman coefficient \n",
    "d_part = 1e-6 #m, avg diameter of active material particle\n",
    "C_elyte = 1000 #mol/m3, concetration of electrolye \n",
    "\n",
    "\"End User Inputs\"\n",
    "\n",
    "# Import necessary modules:\n",
    "from scipy.integrate import solve_ivp #integration function for ODE system.\n",
    "import numpy as np\n",
    "from matplotlib import pyplot as plt\n",
    "from math import exp\n",
    "\n",
    "phi_dl_an_0 = phi_an_0 - phi_sep_0\n",
    "phi_dl_ca_0 = phi_ca_0 - phi_sep_0\n",
    "\n",
    "\n",
    "capacity_anode = capacity_graphite*H_an*eps_graphite*density_graphite\n",
    "capacity_cathode = capacity_LCO*H_ca*eps_LCO*density_LCO\n",
    "capacity_area = min(capacity_anode,capacity_cathode)\n",
    "\n",
    "\n",
    "t_final = charge_frac*3600./C_rate\n",
    "i_ext = C_rate*capacity_area\n",
    "\n",
    "A_fac_an = r_p_an/3/H_an/eps_graphite\n",
    "A_fac_ca = r_p_ca/3/H_ca/eps_LCO\n",
    "\n",
    "#Initial solution vector:\n",
    "\n",
    "SV_0 = np.array( phi_ca_0 - phi_sep_0)\n",
    "    \n",
    "def residual(t,SV):\n",
    "    dSV_dt = np.zeros_like(SV)\n",
    "    \n",
    "    eta_an = SV[0] - dPhi_eq_an\n",
    "    i_Far_an = i_o_an*(exp(-n_an*F*beta_an*eta_an/R/T)\n",
    "                      - exp(n_an*F*(1-beta_an)*eta_an/R/T))\n",
    "    i_dl_an = i_ext*A_fac_an - i_Far_an\n",
    "    dSV_dt[0] = i_dl_an/C_dl_an\n",
    "    \n",
    "    \n",
    "    eta_ca = SV[1] - dPhi_eq_ca\n",
    "    i_Far_ca = i_o_ca*(exp(-n_ca*F*beta_ca*eta_ca/R/T)\n",
    "                      - exp(n_ca*F*(1-beta_ca)*eta_ca/R/T))\n",
    "    i_dl_ca = -i_ext*A_fac_ca - i_Far_ca\n",
    "    \n",
    "    \n",
    "    dSV_dt[1] = i_dl_ca/C_dl_ca\n",
    "    \n",
    "    return dSV_dt\n",
    "    \n",
    "from scipy.integrate import solve_ivp\n",
    "\n",
    "SV_0 = np.array([phi_dl_an_0, phi_dl_ca_0])\n",
    "\n",
    "time_span = np.array([0,t_final])\n",
    "\n",
    "solution = solve_ivp(residual,time_span,SV_0,rtol=1e-6, atol=1e-8)  \n",
    "\n",
    "from matplotlib import pyplot as plt\n",
    "for var in solution.y:\n",
    "    plt.plot(solution.t,var)\n",
    "    \n",
    "plt.legend(['Anode double layer','Cathode double layer'])\n",
    "plt.ylabel('Potential (V)',fontsize=14)\n",
    "plt.xlabel('Time(s)',fontsize=14)"
   ]
  },
  {
   "cell_type": "code",
   "execution_count": null,
   "metadata": {},
   "outputs": [],
   "source": []
  }
 ],
 "metadata": {
  "kernelspec": {
   "display_name": "Python 3",
   "language": "python",
   "name": "python3"
  },
  "language_info": {
   "codemirror_mode": {
    "name": "ipython",
    "version": 3
   },
   "file_extension": ".py",
   "mimetype": "text/x-python",
   "name": "python",
   "nbconvert_exporter": "python",
   "pygments_lexer": "ipython3",
   "version": "3.7.3"
  }
 },
 "nbformat": 4,
 "nbformat_minor": 2
}
